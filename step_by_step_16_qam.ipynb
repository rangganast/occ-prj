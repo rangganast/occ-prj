{
 "cells": [
  {
   "cell_type": "markdown",
   "metadata": {},
   "source": [
    "## Menentukan parameter sebelum modulasi OFDM"
   ]
  },
  {
   "cell_type": "code",
   "execution_count": 14,
   "metadata": {},
   "outputs": [],
   "source": [
    "import numpy as np\n",
    "import scipy.interpolate\n",
    "import scipy"
   ]
  },
  {
   "cell_type": "code",
   "execution_count": 15,
   "metadata": {},
   "outputs": [],
   "source": [
    "K = 64 # number of OFDM subcarriers\n",
    "CP = K//4 #print(CP);  # length of the cyclic prefix: 25% of the block\n",
    "P = CP//2 # number of pilot carriers per OFDM block"
   ]
  },
  {
   "cell_type": "markdown",
   "metadata": {},
   "source": [
    "## Menentukan Value setiap komponen: Carriers, Pilot"
   ]
  },
  {
   "cell_type": "code",
   "execution_count": 16,
   "metadata": {},
   "outputs": [],
   "source": [
    "pilotValue = 3+3j # The known value each pilot transmits\n",
    "\n",
    "allCarriers = np.arange(K)  # indices of all subcarriers ([0, 1, ... K-1])\n",
    "\n",
    "pilotCarriers = allCarriers[::K//P] # Pilots is every (K/P)th carrier.\n",
    "\n",
    "# For convenience of channel estimation, let's make the last carriers also be a pilot\n",
    "pilotCarriers = np.hstack([pilotCarriers, np.array([allCarriers[-1]])])\n",
    "P = P+1\n",
    "\n",
    "# data carriers are all remaining carriers\n",
    "dataCarriers = np.delete(allCarriers, pilotCarriers)"
   ]
  },
  {
   "cell_type": "code",
   "execution_count": 17,
   "metadata": {},
   "outputs": [
    {
     "name": "stdout",
     "output_type": "stream",
     "text": [
      "pilot value: (3+3j)\n",
      "all carriers: [ 0  1  2  3  4  5  6  7  8  9 10 11 12 13 14 15 16 17 18 19 20 21 22 23\n",
      " 24 25 26 27 28 29 30 31 32 33 34 35 36 37 38 39 40 41 42 43 44 45 46 47\n",
      " 48 49 50 51 52 53 54 55 56 57 58 59 60 61 62 63]\n",
      "pilot carriers: [ 0  8 16 24 32 40 48 56 63]\n",
      "data carrires: [ 1  2  3  4  5  6  7  9 10 11 12 13 14 15 17 18 19 20 21 22 23 25 26 27\n",
      " 28 29 30 31 33 34 35 36 37 38 39 41 42 43 44 45 46 47 49 50 51 52 53 54\n",
      " 55 57 58 59 60 61 62]\n"
     ]
    }
   ],
   "source": [
    "print(\"pilot value:\", pilotValue)\n",
    "print(\"all carriers:\", allCarriers)\n",
    "print(\"pilot carriers:\", pilotCarriers)\n",
    "print(\"data carrires:\", dataCarriers)"
   ]
  },
  {
   "cell_type": "markdown",
   "metadata": {},
   "source": [
    "## Menentukan μ (OFDM Symbol) dan Payloadbits per OFDM"
   ]
  },
  {
   "cell_type": "code",
   "execution_count": 18,
   "metadata": {},
   "outputs": [],
   "source": [
    "mu = 4 # untuk 16QAM\n",
    "payloadBits_per_OFDM = len(dataCarriers) * mu"
   ]
  },
  {
   "cell_type": "markdown",
   "metadata": {},
   "source": [
    "## Membuat Mapping Table"
   ]
  },
  {
   "cell_type": "code",
   "execution_count": 19,
   "metadata": {},
   "outputs": [],
   "source": [
    "mapping_table = {\n",
    "    (0,0,0,0) : -3-3j,\n",
    "    (0,0,0,1) : -3-1j,\n",
    "    (0,0,1,0) : -3+3j,\n",
    "    (0,0,1,1) : -3+1j,\n",
    "    (0,1,0,0) : -1-3j,\n",
    "    (0,1,0,1) : -1-1j,\n",
    "    (0,1,1,0) : -1+3j,\n",
    "    (0,1,1,1) : -1+1j,\n",
    "    (1,0,0,0) :  3-3j,\n",
    "    (1,0,0,1) :  3-1j,\n",
    "    (1,0,1,0) :  3+3j,\n",
    "    (1,0,1,1) :  3+1j,\n",
    "    (1,1,0,0) :  1-3j,\n",
    "    (1,1,0,1) :  1-1j,\n",
    "    (1,1,1,0) :  1+3j,\n",
    "    (1,1,1,1) :  1+1j\n",
    "}"
   ]
  },
  {
   "cell_type": "markdown",
   "metadata": {},
   "source": [
    "## Menentukan Channel Response, Signal to Noise Radio in desible (SNRdb) pada receiver"
   ]
  },
  {
   "cell_type": "code",
   "execution_count": 20,
   "metadata": {},
   "outputs": [],
   "source": [
    "channelResponse = np.array([1, 0, 0.3+0.3j])\n",
    "H_exact = np.fft.fft(channelResponse, K)\n",
    "SNRdb = 24"
   ]
  },
  {
   "cell_type": "code",
   "execution_count": 24,
   "metadata": {},
   "outputs": [],
   "source": [
    "bits = np.random.binomial(n=1, p=0.5, size=(payloadBits_per_OFDM, )) # input data dalam bentuk bits"
   ]
  },
  {
   "cell_type": "code",
   "execution_count": 25,
   "metadata": {},
   "outputs": [],
   "source": [
    "def SP(bits):\n",
    "    return bits.reshape((len(dataCarriers), mu))\n",
    "\n",
    "bits_SP = SP(bits)"
   ]
  },
  {
   "cell_type": "code",
   "execution_count": 28,
   "metadata": {},
   "outputs": [
    {
     "name": "stdout",
     "output_type": "stream",
     "text": [
      "[[0 1 1 0]\n",
      " [0 0 1 0]\n",
      " [1 0 1 1]\n",
      " [1 1 0 0]\n",
      " [1 0 1 0]\n",
      " [1 0 1 1]\n",
      " [0 0 1 1]\n",
      " [1 0 0 0]\n",
      " [1 1 0 0]\n",
      " [0 0 1 0]\n",
      " [1 1 1 0]\n",
      " [1 1 0 0]\n",
      " [1 0 1 1]\n",
      " [0 1 0 1]\n",
      " [1 0 1 0]\n",
      " [0 1 1 0]\n",
      " [0 1 0 0]\n",
      " [0 1 0 1]\n",
      " [0 1 1 0]\n",
      " [1 1 0 1]\n",
      " [0 1 0 1]\n",
      " [1 0 1 1]\n",
      " [1 0 0 1]\n",
      " [1 1 1 0]\n",
      " [1 1 1 1]\n",
      " [1 0 1 1]\n",
      " [1 1 0 1]\n",
      " [0 0 0 0]\n",
      " [1 1 1 1]\n",
      " [1 0 0 0]\n",
      " [0 1 1 1]\n",
      " [1 0 0 0]\n",
      " [0 0 0 0]\n",
      " [1 1 1 1]\n",
      " [1 1 1 1]\n",
      " [0 1 0 1]\n",
      " [1 0 1 0]\n",
      " [1 0 0 0]\n",
      " [0 0 0 0]\n",
      " [0 1 0 0]\n",
      " [0 0 0 1]\n",
      " [1 1 0 0]\n",
      " [0 0 0 1]\n",
      " [0 1 0 1]\n",
      " [0 0 0 1]\n",
      " [0 1 1 0]\n",
      " [0 0 0 1]\n",
      " [1 0 1 1]\n",
      " [1 0 0 1]\n",
      " [0 0 1 0]\n",
      " [1 1 1 1]\n",
      " [1 0 1 1]\n",
      " [0 0 0 0]\n",
      " [0 0 1 0]\n",
      " [0 0 1 0]]\n"
     ]
    }
   ],
   "source": [
    "print(bits_SP)"
   ]
  },
  {
   "cell_type": "code",
   "execution_count": 27,
   "metadata": {},
   "outputs": [
    {
     "name": "stdout",
     "output_type": "stream",
     "text": [
      "55\n"
     ]
    }
   ],
   "source": [
    "print(len(bits_SP))"
   ]
  },
  {
   "cell_type": "code",
   "execution_count": 26,
   "metadata": {},
   "outputs": [],
   "source": [
    "def Mapping(bits):\n",
    "    return np.array([mapping_table[tuple(b)] for b in bits])\n",
    "\n",
    "QAM = Mapping(bits_SP)"
   ]
  },
  {
   "cell_type": "code",
   "execution_count": 29,
   "metadata": {},
   "outputs": [
    {
     "name": "stdout",
     "output_type": "stream",
     "text": [
      "[-1.+3.j -3.+3.j  3.+1.j  1.-3.j  3.+3.j  3.+1.j -3.+1.j  3.-3.j  1.-3.j\n",
      " -3.+3.j  1.+3.j  1.-3.j  3.+1.j -1.-1.j  3.+3.j -1.+3.j -1.-3.j -1.-1.j\n",
      " -1.+3.j  1.-1.j -1.-1.j  3.+1.j  3.-1.j  1.+3.j  1.+1.j  3.+1.j  1.-1.j\n",
      " -3.-3.j  1.+1.j  3.-3.j -1.+1.j  3.-3.j -3.-3.j  1.+1.j  1.+1.j -1.-1.j\n",
      "  3.+3.j  3.-3.j -3.-3.j -1.-3.j -3.-1.j  1.-3.j -3.-1.j -1.-1.j -3.-1.j\n",
      " -1.+3.j -3.-1.j  3.+1.j  3.-1.j -3.+3.j  1.+1.j  3.+1.j -3.-3.j -3.+3.j\n",
      " -3.+3.j]\n",
      "55\n"
     ]
    }
   ],
   "source": [
    "print(QAM)\n",
    "print(len(QAM))"
   ]
  },
  {
   "cell_type": "code",
   "execution_count": 30,
   "metadata": {},
   "outputs": [],
   "source": [
    "def OFDM_symbol(QAM_payload):\n",
    "    symbol = np.zeros(K, dtype=complex) # the overall K subcarriers\n",
    "    symbol[pilotCarriers] = pilotValue  # allocate the pilot subcarriers \n",
    "    symbol[dataCarriers] = QAM_payload  # allocate the pilot subcarriers\n",
    "    return symbol\n",
    "\n",
    "OFDM_data = OFDM_symbol(QAM)"
   ]
  },
  {
   "cell_type": "code",
   "execution_count": 31,
   "metadata": {},
   "outputs": [
    {
     "name": "stdout",
     "output_type": "stream",
     "text": [
      "64\n",
      "[ 3.+3.j -1.+3.j -3.+3.j  3.+1.j  1.-3.j  3.+3.j  3.+1.j -3.+1.j  3.+3.j\n",
      "  3.-3.j  1.-3.j -3.+3.j  1.+3.j  1.-3.j  3.+1.j -1.-1.j  3.+3.j  3.+3.j\n",
      " -1.+3.j -1.-3.j -1.-1.j -1.+3.j  1.-1.j -1.-1.j  3.+3.j  3.+1.j  3.-1.j\n",
      "  1.+3.j  1.+1.j  3.+1.j  1.-1.j -3.-3.j  3.+3.j  1.+1.j  3.-3.j -1.+1.j\n",
      "  3.-3.j -3.-3.j  1.+1.j  1.+1.j  3.+3.j -1.-1.j  3.+3.j  3.-3.j -3.-3.j\n",
      " -1.-3.j -3.-1.j  1.-3.j  3.+3.j -3.-1.j -1.-1.j -3.-1.j -1.+3.j -3.-1.j\n",
      "  3.+1.j  3.-1.j  3.+3.j -3.+3.j  1.+1.j  3.+1.j -3.-3.j -3.+3.j -3.+3.j\n",
      "  3.+3.j]\n"
     ]
    }
   ],
   "source": [
    "print(len(OFDM_data))\n",
    "print(OFDM_data)"
   ]
  },
  {
   "cell_type": "code",
   "execution_count": 32,
   "metadata": {},
   "outputs": [],
   "source": [
    "def IFFT(OFDM_data):\n",
    "  return np.fft.ifft(OFDM_data)\n",
    "\n",
    "OFDM_time = IFFT(OFDM_data)"
   ]
  },
  {
   "cell_type": "code",
   "execution_count": 34,
   "metadata": {},
   "outputs": [
    {
     "name": "stdout",
     "output_type": "stream",
     "text": [
      "64\n",
      "[ 0.53125   +0.4375j     -0.39825862+0.66254641j  0.43680491+0.3668746j\n",
      "  0.01595144+0.18609162j -0.2835711 -0.071391j   -0.24169586+0.60786338j\n",
      "  0.02588168+0.21793871j  0.02111343-0.15019061j  0.34911165+0.55713835j\n",
      "  0.32420587-0.25392738j -0.22744271+0.10062154j  0.28612407+0.33458445j\n",
      "  0.02822113+0.071391j    0.28937808-0.72679748j  0.15741834-0.5151882j\n",
      "  0.66245054-0.31682454j  0.03125   +0.125j      -0.49864865-0.35884965j\n",
      "  0.01231268+0.12659221j -0.49654335-0.59522007j  0.10109054-0.05373907j\n",
      "  0.60669567-0.17715569j  0.05676237+0.17994809j  0.38409088+0.09987563j\n",
      "  0.1982233 +0.55713835j -0.12656122-0.00910687j -0.06849716+0.18115378j\n",
      "  0.37812416+0.23806889j -0.22021674-0.1970449j  -0.47640117+0.04417121j\n",
      "  0.05591575-0.52105741j -0.3989296 -0.08306062j  0.53125   +0.3125j\n",
      " -0.05612707-0.10500062j -0.18154691-0.3835098j  -0.42751135-0.20018177j\n",
      " -0.14006481+0.30308517j -0.06948787-0.02625807j  0.11352098+0.19335715j\n",
      " -0.18395625-0.00216089j  0.52588835+0.38036165j  0.21383304-0.14444537j\n",
      "  0.10168032+0.16099422j -0.37874306+0.15527983j  0.30702644-0.30308517j\n",
      "  0.21020381-0.11703157j -0.16732539+0.18555252j -0.3658485 +0.04191936j\n",
      "  0.28125   +0.25j        0.49109457+0.08831644j  0.2627594 -0.2867337j\n",
      "  0.35049264-0.04397126j  0.44754537+0.1970449j  -0.10417022+0.28846002j\n",
      " -0.19616502+0.11586283j -0.18161989+0.32307393j  0.5517767 +0.38036165j\n",
      "  0.05046208+0.12046704j -0.33607053-0.26599284j  0.27210546-0.07465169j\n",
      " -0.24003082+0.05373907j -0.21452243+0.10674819j -0.04600871+0.14358631j\n",
      "  0.0626994 +0.08736775j]\n"
     ]
    }
   ],
   "source": [
    "print(len(OFDM_time))\n",
    "print(OFDM_time)"
   ]
  },
  {
   "cell_type": "code",
   "execution_count": 35,
   "metadata": {},
   "outputs": [],
   "source": [
    "def addCP(OFDM_time):\n",
    "  cp = OFDM_time[-CP:]               # take the last CP samples ...\n",
    "  return np.hstack([cp, OFDM_time])  # ... and add them to the beginning\n",
    "\n",
    "OFDM_withCP = addCP(OFDM_time)"
   ]
  },
  {
   "cell_type": "code",
   "execution_count": 36,
   "metadata": {},
   "outputs": [
    {
     "name": "stdout",
     "output_type": "stream",
     "text": [
      "80\n",
      "[ 0.28125   +0.25j        0.49109457+0.08831644j  0.2627594 -0.2867337j\n",
      "  0.35049264-0.04397126j  0.44754537+0.1970449j  -0.10417022+0.28846002j\n",
      " -0.19616502+0.11586283j -0.18161989+0.32307393j  0.5517767 +0.38036165j\n",
      "  0.05046208+0.12046704j -0.33607053-0.26599284j  0.27210546-0.07465169j\n",
      " -0.24003082+0.05373907j -0.21452243+0.10674819j -0.04600871+0.14358631j\n",
      "  0.0626994 +0.08736775j  0.53125   +0.4375j     -0.39825862+0.66254641j\n",
      "  0.43680491+0.3668746j   0.01595144+0.18609162j -0.2835711 -0.071391j\n",
      " -0.24169586+0.60786338j  0.02588168+0.21793871j  0.02111343-0.15019061j\n",
      "  0.34911165+0.55713835j  0.32420587-0.25392738j -0.22744271+0.10062154j\n",
      "  0.28612407+0.33458445j  0.02822113+0.071391j    0.28937808-0.72679748j\n",
      "  0.15741834-0.5151882j   0.66245054-0.31682454j  0.03125   +0.125j\n",
      " -0.49864865-0.35884965j  0.01231268+0.12659221j -0.49654335-0.59522007j\n",
      "  0.10109054-0.05373907j  0.60669567-0.17715569j  0.05676237+0.17994809j\n",
      "  0.38409088+0.09987563j  0.1982233 +0.55713835j -0.12656122-0.00910687j\n",
      " -0.06849716+0.18115378j  0.37812416+0.23806889j -0.22021674-0.1970449j\n",
      " -0.47640117+0.04417121j  0.05591575-0.52105741j -0.3989296 -0.08306062j\n",
      "  0.53125   +0.3125j     -0.05612707-0.10500062j -0.18154691-0.3835098j\n",
      " -0.42751135-0.20018177j -0.14006481+0.30308517j -0.06948787-0.02625807j\n",
      "  0.11352098+0.19335715j -0.18395625-0.00216089j  0.52588835+0.38036165j\n",
      "  0.21383304-0.14444537j  0.10168032+0.16099422j -0.37874306+0.15527983j\n",
      "  0.30702644-0.30308517j  0.21020381-0.11703157j -0.16732539+0.18555252j\n",
      " -0.3658485 +0.04191936j  0.28125   +0.25j        0.49109457+0.08831644j\n",
      "  0.2627594 -0.2867337j   0.35049264-0.04397126j  0.44754537+0.1970449j\n",
      " -0.10417022+0.28846002j -0.19616502+0.11586283j -0.18161989+0.32307393j\n",
      "  0.5517767 +0.38036165j  0.05046208+0.12046704j -0.33607053-0.26599284j\n",
      "  0.27210546-0.07465169j -0.24003082+0.05373907j -0.21452243+0.10674819j\n",
      " -0.04600871+0.14358631j  0.0626994 +0.08736775j]\n"
     ]
    }
   ],
   "source": [
    "print(len(OFDM_withCP))\n",
    "print(OFDM_withCP)"
   ]
  },
  {
   "cell_type": "code",
   "execution_count": 41,
   "metadata": {},
   "outputs": [
    {
     "name": "stdout",
     "output_type": "stream",
     "text": [
      "RX Signal power: 0.2020. Noise power: 0.0008\n"
     ]
    }
   ],
   "source": [
    "def channel(signal):\n",
    "  convolved = np.convolve(signal, channelResponse)\n",
    "  signal_power = np.mean(abs(convolved**2))\n",
    "  sigma2 = signal_power * 10**(-SNRdb/10)  # calculate noise power based on signal power and SNR\n",
    "  print (\"RX Signal power: %.4f. Noise power: %.4f\" % (signal_power, sigma2))\n",
    "  # Generate complex noise with given variance\n",
    "  noise = np.sqrt(sigma2/2) * (np.random.randn(*convolved.shape)+1j*np.random.randn(*convolved.shape))\n",
    "  return convolved + noise\n",
    "\n",
    "OFDM_TX = OFDM_withCP\n",
    "OFDM_RX = channel(OFDM_TX)\n"
   ]
  },
  {
   "cell_type": "code",
   "execution_count": 39,
   "metadata": {},
   "outputs": [
    {
     "name": "stdout",
     "output_type": "stream",
     "text": [
      "[ 0.28125   +0.25j        0.49109457+0.08831644j  0.2627594 -0.2867337j\n",
      "  0.35049264-0.04397126j  0.44754537+0.1970449j  -0.10417022+0.28846002j\n",
      " -0.19616502+0.11586283j -0.18161989+0.32307393j  0.5517767 +0.38036165j\n",
      "  0.05046208+0.12046704j -0.33607053-0.26599284j  0.27210546-0.07465169j\n",
      " -0.24003082+0.05373907j -0.21452243+0.10674819j -0.04600871+0.14358631j\n",
      "  0.0626994 +0.08736775j  0.53125   +0.4375j     -0.39825862+0.66254641j\n",
      "  0.43680491+0.3668746j   0.01595144+0.18609162j -0.2835711 -0.071391j\n",
      " -0.24169586+0.60786338j  0.02588168+0.21793871j  0.02111343-0.15019061j\n",
      "  0.34911165+0.55713835j  0.32420587-0.25392738j -0.22744271+0.10062154j\n",
      "  0.28612407+0.33458445j  0.02822113+0.071391j    0.28937808-0.72679748j\n",
      "  0.15741834-0.5151882j   0.66245054-0.31682454j  0.03125   +0.125j\n",
      " -0.49864865-0.35884965j  0.01231268+0.12659221j -0.49654335-0.59522007j\n",
      "  0.10109054-0.05373907j  0.60669567-0.17715569j  0.05676237+0.17994809j\n",
      "  0.38409088+0.09987563j  0.1982233 +0.55713835j -0.12656122-0.00910687j\n",
      " -0.06849716+0.18115378j  0.37812416+0.23806889j -0.22021674-0.1970449j\n",
      " -0.47640117+0.04417121j  0.05591575-0.52105741j -0.3989296 -0.08306062j\n",
      "  0.53125   +0.3125j     -0.05612707-0.10500062j -0.18154691-0.3835098j\n",
      " -0.42751135-0.20018177j -0.14006481+0.30308517j -0.06948787-0.02625807j\n",
      "  0.11352098+0.19335715j -0.18395625-0.00216089j  0.52588835+0.38036165j\n",
      "  0.21383304-0.14444537j  0.10168032+0.16099422j -0.37874306+0.15527983j\n",
      "  0.30702644-0.30308517j  0.21020381-0.11703157j -0.16732539+0.18555252j\n",
      " -0.3658485 +0.04191936j  0.28125   +0.25j        0.49109457+0.08831644j\n",
      "  0.2627594 -0.2867337j   0.35049264-0.04397126j  0.44754537+0.1970449j\n",
      " -0.10417022+0.28846002j -0.19616502+0.11586283j -0.18161989+0.32307393j\n",
      "  0.5517767 +0.38036165j  0.05046208+0.12046704j -0.33607053-0.26599284j\n",
      "  0.27210546-0.07465169j -0.24003082+0.05373907j -0.21452243+0.10674819j\n",
      " -0.04600871+0.14358631j  0.0626994 +0.08736775j]\n"
     ]
    }
   ],
   "source": [
    "print(OFDM_TX)"
   ]
  },
  {
   "cell_type": "code",
   "execution_count": 40,
   "metadata": {},
   "outputs": [
    {
     "name": "stdout",
     "output_type": "stream",
     "text": [
      "[ 0.29337583+0.247772j    0.48541976+0.08789225j  0.30817042-0.13824407j\n",
      "  0.49411707+0.14046404j  0.61641648+0.18564271j  0.02999922+0.40535746j\n",
      " -0.11215583+0.31483028j -0.28369974+0.40347067j  0.49638984+0.33800001j\n",
      " -0.11587793+0.1713503j  -0.30402539+0.03799634j  0.25665004-0.02464728j\n",
      " -0.24582011-0.1285725j  -0.08027985+0.18644079j -0.11980993+0.09089522j\n",
      " -0.03029085+0.00705693j  0.48625827+0.45530565j -0.39143542+0.6682189j\n",
      "  0.48609331+0.6443379j  -0.2784011 +0.29685171j -0.24088422+0.17172158j\n",
      " -0.29282738+0.65333898j -0.06416714+0.10932701j -0.23747784-0.04342991j\n",
      "  0.27036574+0.65971512j  0.38638281-0.26751561j -0.30639071+0.37159839j\n",
      "  0.47224626+0.40813088j -0.06818446+0.02592014j  0.29650279-0.54966818j\n",
      "  0.15032458-0.47834386j  0.96132449-0.45504045j  0.22863565+0.06158686j\n",
      " -0.22786085-0.2420053j  -0.01619034+0.15118907j -0.53810463-0.82938669j\n",
      "  0.07149282-0.02350034j  0.62473394-0.4993149j   0.07037748+0.17180948j\n",
      "  0.65286929+0.20194288j  0.11818721+0.62592678j -0.04142637+0.1436027j\n",
      " -0.17442748+0.40571962j  0.30598232+0.16742305j -0.29035859-0.14373792j\n",
      " -0.4320821 +0.20226988j  0.03668966-0.68115559j -0.54617147-0.20813322j\n",
      "  0.68421111+0.16440773j -0.11831172-0.27148953j -0.10402937-0.10845397j\n",
      " -0.43076739-0.23058273j -0.09675279+0.1345011j  -0.1337572 -0.23708225j\n",
      " -0.06378033+0.23875086j -0.23288523-0.02065279j  0.49566734+0.5174371j\n",
      "  0.1729084 -0.20946794j  0.15482841+0.4602018j  -0.28444496+0.1739839j\n",
      "  0.28413428-0.21587043j  0.02286695-0.18254326j  0.03342759+0.19442971j\n",
      " -0.28662909+0.08553086j  0.16947668+0.25258563j  0.382948  +0.03940478j\n",
      "  0.32924616-0.10220113j  0.50163644+0.12004923j  0.59086221+0.16443576j\n",
      "  0.04040712+0.39831964j -0.13061427+0.30291311j -0.30019567+0.37675071j\n",
      "  0.45815125+0.37874597j -0.09190918+0.14604469j -0.29083164+0.00705806j\n",
      "  0.2452672 -0.03636285j -0.28797216-0.11587903j -0.0800243 +0.18579898j\n",
      " -0.1382756 +0.04974561j -0.03052441+0.06132025j -0.05493228+0.03196025j\n",
      "  0.021809  +0.02516127j]\n"
     ]
    }
   ],
   "source": [
    "print(OFDM_RX)"
   ]
  },
  {
   "cell_type": "code",
   "execution_count": null,
   "metadata": {},
   "outputs": [],
   "source": []
  }
 ],
 "metadata": {
  "kernelspec": {
   "display_name": "occ-prj",
   "language": "python",
   "name": "python3"
  },
  "language_info": {
   "codemirror_mode": {
    "name": "ipython",
    "version": 3
   },
   "file_extension": ".py",
   "mimetype": "text/x-python",
   "name": "python",
   "nbconvert_exporter": "python",
   "pygments_lexer": "ipython3",
   "version": "3.11.4"
  },
  "orig_nbformat": 4
 },
 "nbformat": 4,
 "nbformat_minor": 2
}
