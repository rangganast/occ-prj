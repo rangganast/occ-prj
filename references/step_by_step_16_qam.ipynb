{
 "cells": [
  {
   "cell_type": "markdown",
   "metadata": {},
   "source": [
    "## Menentukan parameter sebelum modulasi OFDM"
   ]
  },
  {
   "cell_type": "code",
   "execution_count": 1,
   "metadata": {},
   "outputs": [],
   "source": [
    "import numpy as np\n",
    "import scipy.interpolate\n",
    "import scipy"
   ]
  },
  {
   "cell_type": "code",
   "execution_count": 2,
   "metadata": {},
   "outputs": [],
   "source": [
    "K = 64 # number of OFDM subcarriers\n",
    "CP = K//4 #print(CP);  # length of the cyclic prefix: 25% of the block\n",
    "P = CP//2 # number of pilot carriers per OFDM block"
   ]
  },
  {
   "cell_type": "markdown",
   "metadata": {},
   "source": [
    "## Menentukan Value setiap komponen: Carriers, Pilot"
   ]
  },
  {
   "cell_type": "code",
   "execution_count": 3,
   "metadata": {},
   "outputs": [],
   "source": [
    "pilotValue = 3+3j # The known value each pilot transmits\n",
    "\n",
    "allCarriers = np.arange(K)  # indices of all subcarriers ([0, 1, ... K-1])\n",
    "\n",
    "pilotCarriers = allCarriers[::K//P] # Pilots is every (K/P)th carrier.\n",
    "\n",
    "# For convenience of channel estimation, let's make the last carriers also be a pilot\n",
    "pilotCarriers = np.hstack([pilotCarriers, np.array([allCarriers[-1]])])\n",
    "P = P+1\n",
    "\n",
    "# data carriers are all remaining carriers\n",
    "dataCarriers = np.delete(allCarriers, pilotCarriers)"
   ]
  },
  {
   "cell_type": "code",
   "execution_count": 4,
   "metadata": {},
   "outputs": [
    {
     "name": "stdout",
     "output_type": "stream",
     "text": [
      "pilot value: (3+3j)\n",
      "all carriers: [ 0  1  2  3  4  5  6  7  8  9 10 11 12 13 14 15 16 17 18 19 20 21 22 23\n",
      " 24 25 26 27 28 29 30 31 32 33 34 35 36 37 38 39 40 41 42 43 44 45 46 47\n",
      " 48 49 50 51 52 53 54 55 56 57 58 59 60 61 62 63]\n",
      "pilot carriers: [ 0  8 16 24 32 40 48 56 63]\n",
      "data carrires: [ 1  2  3  4  5  6  7  9 10 11 12 13 14 15 17 18 19 20 21 22 23 25 26 27\n",
      " 28 29 30 31 33 34 35 36 37 38 39 41 42 43 44 45 46 47 49 50 51 52 53 54\n",
      " 55 57 58 59 60 61 62]\n"
     ]
    }
   ],
   "source": [
    "print(\"pilot value:\", pilotValue)\n",
    "print(\"all carriers:\", allCarriers)\n",
    "print(\"pilot carriers:\", pilotCarriers)\n",
    "print(\"data carrires:\", dataCarriers)"
   ]
  },
  {
   "cell_type": "markdown",
   "metadata": {},
   "source": [
    "## Menentukan μ (OFDM Symbol) dan Payloadbits per OFDM"
   ]
  },
  {
   "cell_type": "code",
   "execution_count": 5,
   "metadata": {},
   "outputs": [],
   "source": [
    "mu = 4 # untuk 16QAM\n",
    "payloadBits_per_OFDM = len(dataCarriers) * mu"
   ]
  },
  {
   "cell_type": "markdown",
   "metadata": {},
   "source": [
    "## Membuat Mapping Table"
   ]
  },
  {
   "cell_type": "code",
   "execution_count": 6,
   "metadata": {},
   "outputs": [],
   "source": [
    "mapping_table = {\n",
    "    (0,0,0,0) : -3-3j,\n",
    "    (0,0,0,1) : -3-1j,\n",
    "    (0,0,1,0) : -3+3j,\n",
    "    (0,0,1,1) : -3+1j,\n",
    "    (0,1,0,0) : -1-3j,\n",
    "    (0,1,0,1) : -1-1j,\n",
    "    (0,1,1,0) : -1+3j,\n",
    "    (0,1,1,1) : -1+1j,\n",
    "    (1,0,0,0) :  3-3j,\n",
    "    (1,0,0,1) :  3-1j,\n",
    "    (1,0,1,0) :  3+3j,\n",
    "    (1,0,1,1) :  3+1j,\n",
    "    (1,1,0,0) :  1-3j,\n",
    "    (1,1,0,1) :  1-1j,\n",
    "    (1,1,1,0) :  1+3j,\n",
    "    (1,1,1,1) :  1+1j\n",
    "}"
   ]
  },
  {
   "cell_type": "markdown",
   "metadata": {},
   "source": [
    "## Menentukan Channel Response, Signal to Noise Radio in desible (SNRdb) pada receiver"
   ]
  },
  {
   "cell_type": "code",
   "execution_count": 7,
   "metadata": {},
   "outputs": [],
   "source": [
    "channelResponse = np.array([1, 0, 0.3+0.3j])\n",
    "H_exact = np.fft.fft(channelResponse, K)\n",
    "SNRdb = 24"
   ]
  },
  {
   "cell_type": "code",
   "execution_count": 8,
   "metadata": {},
   "outputs": [],
   "source": [
    "bits = np.random.binomial(n=1, p=0.5, size=(payloadBits_per_OFDM, )) # input data dalam bentuk bits"
   ]
  },
  {
   "cell_type": "code",
   "execution_count": 9,
   "metadata": {},
   "outputs": [],
   "source": [
    "def SP(bits):\n",
    "    return bits.reshape((len(dataCarriers), mu))\n",
    "\n",
    "bits_SP = SP(bits)"
   ]
  },
  {
   "cell_type": "code",
   "execution_count": 10,
   "metadata": {},
   "outputs": [
    {
     "name": "stdout",
     "output_type": "stream",
     "text": [
      "[[0 0 1 1]\n",
      " [1 0 1 1]\n",
      " [1 1 1 1]\n",
      " [0 0 0 0]\n",
      " [1 1 0 0]\n",
      " [0 1 1 1]\n",
      " [1 1 1 1]\n",
      " [1 0 1 0]\n",
      " [1 1 0 0]\n",
      " [0 0 1 0]\n",
      " [1 1 0 0]\n",
      " [1 0 1 1]\n",
      " [1 0 1 0]\n",
      " [1 1 0 0]\n",
      " [1 1 1 0]\n",
      " [0 0 1 0]\n",
      " [0 1 1 1]\n",
      " [0 0 1 1]\n",
      " [0 0 1 0]\n",
      " [1 0 1 1]\n",
      " [1 1 1 0]\n",
      " [1 0 0 1]\n",
      " [0 0 0 0]\n",
      " [0 0 0 0]\n",
      " [1 1 0 1]\n",
      " [1 1 1 1]\n",
      " [0 0 0 1]\n",
      " [0 1 1 1]\n",
      " [1 0 0 1]\n",
      " [0 0 0 1]\n",
      " [1 1 0 1]\n",
      " [0 0 1 1]\n",
      " [0 1 0 0]\n",
      " [0 1 0 1]\n",
      " [1 0 1 1]\n",
      " [0 1 0 0]\n",
      " [1 0 0 1]\n",
      " [0 1 0 1]\n",
      " [0 1 1 0]\n",
      " [0 0 0 0]\n",
      " [0 0 0 1]\n",
      " [1 1 1 1]\n",
      " [0 1 0 1]\n",
      " [1 0 1 0]\n",
      " [1 0 0 1]\n",
      " [0 0 0 0]\n",
      " [0 0 0 0]\n",
      " [0 1 1 1]\n",
      " [0 0 0 0]\n",
      " [1 1 0 0]\n",
      " [1 1 1 1]\n",
      " [0 0 0 0]\n",
      " [1 1 0 0]\n",
      " [0 0 0 0]\n",
      " [1 1 1 1]]\n"
     ]
    }
   ],
   "source": [
    "print(bits_SP)"
   ]
  },
  {
   "cell_type": "code",
   "execution_count": 11,
   "metadata": {},
   "outputs": [
    {
     "name": "stdout",
     "output_type": "stream",
     "text": [
      "55\n"
     ]
    }
   ],
   "source": [
    "print(len(bits_SP))"
   ]
  },
  {
   "cell_type": "code",
   "execution_count": 12,
   "metadata": {},
   "outputs": [],
   "source": [
    "def Mapping(bits):\n",
    "    return np.array([mapping_table[tuple(b)] for b in bits])\n",
    "\n",
    "QAM = Mapping(bits_SP)"
   ]
  },
  {
   "cell_type": "code",
   "execution_count": 13,
   "metadata": {},
   "outputs": [
    {
     "name": "stdout",
     "output_type": "stream",
     "text": [
      "[-3.+1.j  3.+1.j  1.+1.j -3.-3.j  1.-3.j -1.+1.j  1.+1.j  3.+3.j  1.-3.j\n",
      " -3.+3.j  1.-3.j  3.+1.j  3.+3.j  1.-3.j  1.+3.j -3.+3.j -1.+1.j -3.+1.j\n",
      " -3.+3.j  3.+1.j  1.+3.j  3.-1.j -3.-3.j -3.-3.j  1.-1.j  1.+1.j -3.-1.j\n",
      " -1.+1.j  3.-1.j -3.-1.j  1.-1.j -3.+1.j -1.-3.j -1.-1.j  3.+1.j -1.-3.j\n",
      "  3.-1.j -1.-1.j -1.+3.j -3.-3.j -3.-1.j  1.+1.j -1.-1.j  3.+3.j  3.-1.j\n",
      " -3.-3.j -3.-3.j -1.+1.j -3.-3.j  1.-3.j  1.+1.j -3.-3.j  1.-3.j -3.-3.j\n",
      "  1.+1.j]\n",
      "55\n"
     ]
    }
   ],
   "source": [
    "print(QAM)\n",
    "print(len(QAM))"
   ]
  },
  {
   "cell_type": "code",
   "execution_count": 14,
   "metadata": {},
   "outputs": [],
   "source": [
    "def OFDM_symbol(QAM_payload):\n",
    "    symbol = np.zeros(K, dtype=complex) # the overall K subcarriers\n",
    "    symbol[pilotCarriers] = pilotValue  # allocate the pilot subcarriers \n",
    "    symbol[dataCarriers] = QAM_payload  # allocate the pilot subcarriers\n",
    "    return symbol\n",
    "\n",
    "OFDM_data = OFDM_symbol(QAM)"
   ]
  },
  {
   "cell_type": "code",
   "execution_count": 15,
   "metadata": {},
   "outputs": [
    {
     "name": "stdout",
     "output_type": "stream",
     "text": [
      "64\n",
      "[ 3.+3.j -3.+1.j  3.+1.j  1.+1.j -3.-3.j  1.-3.j -1.+1.j  1.+1.j  3.+3.j\n",
      "  3.+3.j  1.-3.j -3.+3.j  1.-3.j  3.+1.j  3.+3.j  1.-3.j  3.+3.j  1.+3.j\n",
      " -3.+3.j -1.+1.j -3.+1.j -3.+3.j  3.+1.j  1.+3.j  3.+3.j  3.-1.j -3.-3.j\n",
      " -3.-3.j  1.-1.j  1.+1.j -3.-1.j -1.+1.j  3.+3.j  3.-1.j -3.-1.j  1.-1.j\n",
      " -3.+1.j -1.-3.j -1.-1.j  3.+1.j  3.+3.j -1.-3.j  3.-1.j -1.-1.j -1.+3.j\n",
      " -3.-3.j -3.-1.j  1.+1.j  3.+3.j -1.-1.j  3.+3.j  3.-1.j -3.-3.j -3.-3.j\n",
      " -1.+1.j -3.-3.j  3.+3.j  1.-3.j  1.+1.j -3.-3.j  1.-3.j -3.-3.j  1.+1.j\n",
      "  3.+3.j]\n"
     ]
    }
   ],
   "source": [
    "print(len(OFDM_data))\n",
    "print(OFDM_data)"
   ]
  },
  {
   "cell_type": "code",
   "execution_count": 16,
   "metadata": {},
   "outputs": [],
   "source": [
    "def IFFT(OFDM_data):\n",
    "  return np.fft.ifft(OFDM_data)\n",
    "\n",
    "OFDM_time = IFFT(OFDM_data)"
   ]
  },
  {
   "cell_type": "code",
   "execution_count": 17,
   "metadata": {},
   "outputs": [
    {
     "name": "stdout",
     "output_type": "stream",
     "text": [
      "64\n",
      "[ 0.1875    +1.25000000e-01j -0.27904626+1.51756159e-01j\n",
      " -0.08952217-2.46802393e-02j -0.04901042+2.32541151e-01j\n",
      " -0.19163726+1.32843547e-01j  0.47932779-1.70811150e-01j\n",
      "  0.11658201+2.78118216e-01j -0.61833456+1.46074885e-01j\n",
      "  0.88101213+7.61373782e-01j  0.16060808+3.33317376e-01j\n",
      "  0.15279944+1.53243262e-02j -0.10302984-1.29563031e-01j\n",
      " -0.44680203-1.39848884e-01j  0.05787173-3.62185301e-01j\n",
      "  0.30687354+2.64463634e-02j  0.08246992-1.82826204e-01j\n",
      "  0.40625   +1.56250000e-01j -0.35524567-5.53566996e-01j\n",
      "  0.1617043 +1.78674589e-01j -0.07246941-1.65129222e-01j\n",
      "  0.38588068-4.75874615e-01j -0.08638994-4.01036305e-01j\n",
      " -0.29679119+5.17798367e-03j  0.1482689 +2.22865278e-01j\n",
      "  0.18148787+2.82820392e-01j -0.39159424-3.16921488e-01j\n",
      "  0.38661842-2.79262768e-01j  0.31823973-1.81798055e-01j\n",
      " -0.0262467 +3.25362991e-01j -0.0249799 +1.36253421e-01j\n",
      " -0.23070621+7.05107112e-02j -0.15660106+1.18847594e-01j\n",
      "  0.25      +5.00000000e-01j  0.72813454-1.23954094e-01j\n",
      "  0.03131733-2.57211980e-01j  0.413525  -5.59744632e-02j\n",
      " -0.16191613-3.05178504e-01j -0.18007357-1.26494699e-01j\n",
      "  0.08327962-2.95770144e-01j  0.15104403+1.50091353e-01j\n",
      "  0.30648787+3.63626218e-01j  0.27313218+3.56060199e-01j\n",
      " -0.3057504 +2.46753810e-01j -0.31784387-7.44865797e-02j\n",
      "  0.27002533+3.12183841e-01j -0.1830194 +4.68173284e-01j\n",
      "  0.1663604 +2.41989531e-01j -0.55553912-4.41180398e-01j\n",
      "  0.03125   +2.18750000e-01j  0.11731319+5.56179023e-02j\n",
      " -0.1918878 -1.61947413e-01j -0.33988059+3.74645526e-01j\n",
      " -0.03232729-2.26790428e-01j -0.02972983+2.16588305e-01j\n",
      " -0.16823548+1.00862292e-01j  0.43450658+1.82085396e-01j\n",
      "  0.75601213+5.92179608e-01j -0.25330182+9.76909419e-02j\n",
      " -0.14527912+2.82349675e-01j  0.15046941-2.35326335e-04j\n",
      "  0.2030234 +3.77302052e-01j -0.03300688+2.39512446e-01j\n",
      "  0.02263731-4.27334953e-01j  0.51418531-1.95957903e-01j]\n"
     ]
    }
   ],
   "source": [
    "print(len(OFDM_time))\n",
    "print(OFDM_time)"
   ]
  },
  {
   "cell_type": "code",
   "execution_count": 32,
   "metadata": {},
   "outputs": [
    {
     "name": "stdout",
     "output_type": "stream",
     "text": [
      "[ 3.+3.j -3.+1.j  3.+1.j  1.+1.j -3.-3.j  1.-3.j -1.+1.j  1.+1.j  3.+3.j\n",
      "  3.+3.j  1.-3.j -3.+3.j  1.-3.j  3.+1.j  3.+3.j  1.-3.j  3.+3.j  1.+3.j\n",
      " -3.+3.j -1.+1.j -3.+1.j -3.+3.j  3.+1.j  1.+3.j  3.+3.j  3.-1.j -3.-3.j\n",
      " -3.-3.j  1.-1.j  1.+1.j -3.-1.j -1.+1.j  3.+3.j  3.-1.j -3.-1.j  1.-1.j\n",
      " -3.+1.j -1.-3.j -1.-1.j  3.+1.j  3.+3.j -1.-3.j  3.-1.j -1.-1.j -1.+3.j\n",
      " -3.-3.j -3.-1.j  1.+1.j  3.+3.j -1.-1.j  3.+3.j  3.-1.j -3.-3.j -3.-3.j\n",
      " -1.+1.j -3.-3.j  3.+3.j  1.-3.j  1.+1.j -3.-3.j  1.-3.j -3.-3.j  1.+1.j\n",
      "  3.+3.j]\n"
     ]
    }
   ],
   "source": [
    "fft_result = np.fft.fft(OFDM_time)\n",
    "print(fft_result)"
   ]
  },
  {
   "cell_type": "code",
   "execution_count": 18,
   "metadata": {},
   "outputs": [],
   "source": [
    "def addCP(OFDM_time):\n",
    "  cp = OFDM_time[-CP:]               # take the last CP samples ...\n",
    "  return np.hstack([cp, OFDM_time])  # ... and add them to the beginning\n",
    "\n",
    "OFDM_withCP = addCP(OFDM_time)"
   ]
  },
  {
   "cell_type": "code",
   "execution_count": 19,
   "metadata": {},
   "outputs": [
    {
     "name": "stdout",
     "output_type": "stream",
     "text": [
      "80\n",
      "[ 0.03125   +2.18750000e-01j  0.11731319+5.56179023e-02j\n",
      " -0.1918878 -1.61947413e-01j -0.33988059+3.74645526e-01j\n",
      " -0.03232729-2.26790428e-01j -0.02972983+2.16588305e-01j\n",
      " -0.16823548+1.00862292e-01j  0.43450658+1.82085396e-01j\n",
      "  0.75601213+5.92179608e-01j -0.25330182+9.76909419e-02j\n",
      " -0.14527912+2.82349675e-01j  0.15046941-2.35326335e-04j\n",
      "  0.2030234 +3.77302052e-01j -0.03300688+2.39512446e-01j\n",
      "  0.02263731-4.27334953e-01j  0.51418531-1.95957903e-01j\n",
      "  0.1875    +1.25000000e-01j -0.27904626+1.51756159e-01j\n",
      " -0.08952217-2.46802393e-02j -0.04901042+2.32541151e-01j\n",
      " -0.19163726+1.32843547e-01j  0.47932779-1.70811150e-01j\n",
      "  0.11658201+2.78118216e-01j -0.61833456+1.46074885e-01j\n",
      "  0.88101213+7.61373782e-01j  0.16060808+3.33317376e-01j\n",
      "  0.15279944+1.53243262e-02j -0.10302984-1.29563031e-01j\n",
      " -0.44680203-1.39848884e-01j  0.05787173-3.62185301e-01j\n",
      "  0.30687354+2.64463634e-02j  0.08246992-1.82826204e-01j\n",
      "  0.40625   +1.56250000e-01j -0.35524567-5.53566996e-01j\n",
      "  0.1617043 +1.78674589e-01j -0.07246941-1.65129222e-01j\n",
      "  0.38588068-4.75874615e-01j -0.08638994-4.01036305e-01j\n",
      " -0.29679119+5.17798367e-03j  0.1482689 +2.22865278e-01j\n",
      "  0.18148787+2.82820392e-01j -0.39159424-3.16921488e-01j\n",
      "  0.38661842-2.79262768e-01j  0.31823973-1.81798055e-01j\n",
      " -0.0262467 +3.25362991e-01j -0.0249799 +1.36253421e-01j\n",
      " -0.23070621+7.05107112e-02j -0.15660106+1.18847594e-01j\n",
      "  0.25      +5.00000000e-01j  0.72813454-1.23954094e-01j\n",
      "  0.03131733-2.57211980e-01j  0.413525  -5.59744632e-02j\n",
      " -0.16191613-3.05178504e-01j -0.18007357-1.26494699e-01j\n",
      "  0.08327962-2.95770144e-01j  0.15104403+1.50091353e-01j\n",
      "  0.30648787+3.63626218e-01j  0.27313218+3.56060199e-01j\n",
      " -0.3057504 +2.46753810e-01j -0.31784387-7.44865797e-02j\n",
      "  0.27002533+3.12183841e-01j -0.1830194 +4.68173284e-01j\n",
      "  0.1663604 +2.41989531e-01j -0.55553912-4.41180398e-01j\n",
      "  0.03125   +2.18750000e-01j  0.11731319+5.56179023e-02j\n",
      " -0.1918878 -1.61947413e-01j -0.33988059+3.74645526e-01j\n",
      " -0.03232729-2.26790428e-01j -0.02972983+2.16588305e-01j\n",
      " -0.16823548+1.00862292e-01j  0.43450658+1.82085396e-01j\n",
      "  0.75601213+5.92179608e-01j -0.25330182+9.76909419e-02j\n",
      " -0.14527912+2.82349675e-01j  0.15046941-2.35326335e-04j\n",
      "  0.2030234 +3.77302052e-01j -0.03300688+2.39512446e-01j\n",
      "  0.02263731-4.27334953e-01j  0.51418531-1.95957903e-01j]\n"
     ]
    }
   ],
   "source": [
    "print(len(OFDM_withCP))\n",
    "print(OFDM_withCP)"
   ]
  },
  {
   "cell_type": "code",
   "execution_count": 20,
   "metadata": {},
   "outputs": [
    {
     "name": "stdout",
     "output_type": "stream",
     "text": [
      "RX Signal power: 0.1860. Noise power: 0.0007\n"
     ]
    }
   ],
   "source": [
    "def channel(signal):\n",
    "  convolved = np.convolve(signal, channelResponse)\n",
    "  signal_power = np.mean(abs(convolved**2))\n",
    "  sigma2 = signal_power * 10**(-SNRdb/10)  # calculate noise power based on signal power and SNR\n",
    "  print (\"RX Signal power: %.4f. Noise power: %.4f\" % (signal_power, sigma2))\n",
    "  # Generate complex noise with given variance\n",
    "  noise = np.sqrt(sigma2/2) * (np.random.randn(*convolved.shape)+1j*np.random.randn(*convolved.shape))\n",
    "  return convolved + noise\n",
    "\n",
    "OFDM_TX = OFDM_withCP\n",
    "OFDM_RX = channel(OFDM_TX)\n"
   ]
  },
  {
   "cell_type": "code",
   "execution_count": 21,
   "metadata": {},
   "outputs": [
    {
     "name": "stdout",
     "output_type": "stream",
     "text": [
      "80\n",
      "[ 0.03125   +2.18750000e-01j  0.11731319+5.56179023e-02j\n",
      " -0.1918878 -1.61947413e-01j -0.33988059+3.74645526e-01j\n",
      " -0.03232729-2.26790428e-01j -0.02972983+2.16588305e-01j\n",
      " -0.16823548+1.00862292e-01j  0.43450658+1.82085396e-01j\n",
      "  0.75601213+5.92179608e-01j -0.25330182+9.76909419e-02j\n",
      " -0.14527912+2.82349675e-01j  0.15046941-2.35326335e-04j\n",
      "  0.2030234 +3.77302052e-01j -0.03300688+2.39512446e-01j\n",
      "  0.02263731-4.27334953e-01j  0.51418531-1.95957903e-01j\n",
      "  0.1875    +1.25000000e-01j -0.27904626+1.51756159e-01j\n",
      " -0.08952217-2.46802393e-02j -0.04901042+2.32541151e-01j\n",
      " -0.19163726+1.32843547e-01j  0.47932779-1.70811150e-01j\n",
      "  0.11658201+2.78118216e-01j -0.61833456+1.46074885e-01j\n",
      "  0.88101213+7.61373782e-01j  0.16060808+3.33317376e-01j\n",
      "  0.15279944+1.53243262e-02j -0.10302984-1.29563031e-01j\n",
      " -0.44680203-1.39848884e-01j  0.05787173-3.62185301e-01j\n",
      "  0.30687354+2.64463634e-02j  0.08246992-1.82826204e-01j\n",
      "  0.40625   +1.56250000e-01j -0.35524567-5.53566996e-01j\n",
      "  0.1617043 +1.78674589e-01j -0.07246941-1.65129222e-01j\n",
      "  0.38588068-4.75874615e-01j -0.08638994-4.01036305e-01j\n",
      " -0.29679119+5.17798367e-03j  0.1482689 +2.22865278e-01j\n",
      "  0.18148787+2.82820392e-01j -0.39159424-3.16921488e-01j\n",
      "  0.38661842-2.79262768e-01j  0.31823973-1.81798055e-01j\n",
      " -0.0262467 +3.25362991e-01j -0.0249799 +1.36253421e-01j\n",
      " -0.23070621+7.05107112e-02j -0.15660106+1.18847594e-01j\n",
      "  0.25      +5.00000000e-01j  0.72813454-1.23954094e-01j\n",
      "  0.03131733-2.57211980e-01j  0.413525  -5.59744632e-02j\n",
      " -0.16191613-3.05178504e-01j -0.18007357-1.26494699e-01j\n",
      "  0.08327962-2.95770144e-01j  0.15104403+1.50091353e-01j\n",
      "  0.30648787+3.63626218e-01j  0.27313218+3.56060199e-01j\n",
      " -0.3057504 +2.46753810e-01j -0.31784387-7.44865797e-02j\n",
      "  0.27002533+3.12183841e-01j -0.1830194 +4.68173284e-01j\n",
      "  0.1663604 +2.41989531e-01j -0.55553912-4.41180398e-01j\n",
      "  0.03125   +2.18750000e-01j  0.11731319+5.56179023e-02j\n",
      " -0.1918878 -1.61947413e-01j -0.33988059+3.74645526e-01j\n",
      " -0.03232729-2.26790428e-01j -0.02972983+2.16588305e-01j\n",
      " -0.16823548+1.00862292e-01j  0.43450658+1.82085396e-01j\n",
      "  0.75601213+5.92179608e-01j -0.25330182+9.76909419e-02j\n",
      " -0.14527912+2.82349675e-01j  0.15046941-2.35326335e-04j\n",
      "  0.2030234 +3.77302052e-01j -0.03300688+2.39512446e-01j\n",
      "  0.02263731-4.27334953e-01j  0.51418531-1.95957903e-01j]\n"
     ]
    }
   ],
   "source": [
    "print(len(OFDM_TX))\n",
    "print(OFDM_TX)"
   ]
  },
  {
   "cell_type": "code",
   "execution_count": 22,
   "metadata": {},
   "outputs": [
    {
     "name": "stdout",
     "output_type": "stream",
     "text": [
      "82\n",
      "[ 0.03563475+0.21067244j  0.1068446 +0.03645107j -0.25900047-0.08858499j\n",
      " -0.35402519+0.44261364j -0.06941495-0.30646102j -0.26045582+0.23725313j\n",
      " -0.09548902+0.02391983j  0.33227658+0.23935353j  0.65480591+0.58904817j\n",
      " -0.19703168+0.2714435j  -0.10342136+0.67800513j  0.06487639-0.01356929j\n",
      "  0.08761636+0.44046868j  0.02833491+0.29445658j -0.00952212-0.26187808j\n",
      "  0.41655541-0.12491709j  0.33303836-0.02180784j -0.08874685+0.25231634j\n",
      " -0.09638259+0.08228279j -0.1918632 +0.19060958j -0.21455046+0.12258035j\n",
      "  0.38858288-0.13675915j  0.01889731+0.24902153j -0.41976234+0.23457773j\n",
      "  0.80741837+0.88129525j -0.05934572+0.17846215j  0.1898983 +0.51043071j\n",
      " -0.15666137+0.02265309j -0.41189073-0.07599519j  0.07149784-0.42597821j\n",
      "  0.19735501-0.10422523j  0.22742867-0.25067038j  0.46401414+0.21874739j\n",
      " -0.2935703 -0.57476898j  0.25636415+0.34874629j -0.01734336-0.43396559j\n",
      "  0.36410326-0.38644832j -0.09462249-0.45648104j -0.05465167-0.03274305j\n",
      "  0.26230434+0.07308847j  0.08123375+0.20687068j -0.44045875-0.21962558j\n",
      "  0.35210136-0.13474806j  0.31412878-0.37849196j  0.14540822+0.32550906j\n",
      "  0.11237749+0.19467212j -0.319847  +0.22953254j -0.1782971 +0.15504047j\n",
      "  0.16251365+0.46223213j  0.67680964-0.16357117j -0.03764444-0.02595238j\n",
      "  0.66100416+0.14273497j -0.06096608-0.35791809j -0.05104212-0.00812064j\n",
      "  0.13646777-0.45199672j  0.09038551+0.05826534j  0.43316663+0.28365261j\n",
      "  0.28387156+0.44414061j -0.29897396+0.44504317j -0.36662378+0.15110632j\n",
      "  0.10955701+0.27764222j -0.23009791+0.33990414j  0.16806076+0.41423198j\n",
      " -0.76942266-0.36937353j  0.02847355+0.33249505j  0.12330069-0.24999921j\n",
      " -0.27727022-0.12706621j -0.34097454+0.42620862j -0.02325886-0.33513602j\n",
      " -0.18677643+0.23891677j -0.11440053+0.04470602j  0.3616021 +0.25799548j\n",
      "  0.6795917 +0.58036879j -0.14794727+0.28210223j -0.10033487+0.70092012j\n",
      "  0.07171373-0.06328502j  0.07576989+0.41738745j -0.00420749+0.28819333j\n",
      " -0.03643488-0.24556688j  0.41692592-0.14182715j  0.13420656-0.11749244j\n",
      "  0.21844837+0.08644173j]\n"
     ]
    }
   ],
   "source": [
    "print(len(OFDM_RX))\n",
    "print(OFDM_RX)"
   ]
  },
  {
   "cell_type": "code",
   "execution_count": 23,
   "metadata": {},
   "outputs": [],
   "source": [
    "complex_numbers = OFDM_RX\n",
    "normalized_complex = [c / np.max(np.abs(complex_numbers)) for c in complex_numbers]"
   ]
  },
  {
   "cell_type": "code",
   "execution_count": 24,
   "metadata": {},
   "outputs": [
    {
     "data": {
      "text/plain": [
       "82"
      ]
     },
     "execution_count": 24,
     "metadata": {},
     "output_type": "execute_result"
    }
   ],
   "source": [
    "len(normalized_complex)"
   ]
  },
  {
   "cell_type": "code",
   "execution_count": 25,
   "metadata": {},
   "outputs": [],
   "source": [
    "reverse_normalized_complex = [c * np.max(np.abs(complex_numbers)) for c in normalized_complex]"
   ]
  },
  {
   "cell_type": "code",
   "execution_count": 26,
   "metadata": {},
   "outputs": [
    {
     "data": {
      "text/plain": [
       "[(0.0356347547062758+0.2106724395111582j),\n",
       " (0.10684459719677343+0.036451072704335875j),\n",
       " (-0.2590004660479922-0.08858498970164735j),\n",
       " (-0.35402518912065306+0.4426136400274501j),\n",
       " (-0.06941495445613705-0.3064610160898493j),\n",
       " (-0.2604558158566931+0.2372531318827327j),\n",
       " (-0.0954890166143344+0.023919831172611903j),\n",
       " (0.3322765775229577+0.2393535349374464j),\n",
       " (0.6548059063268565+0.5890481740611795j),\n",
       " (-0.19703168207552352+0.2714435001916716j),\n",
       " (-0.10342135703645704+0.6780051256455145j),\n",
       " (0.06487639302765039-0.013569293797422126j),\n",
       " (0.08761636345839566+0.44046868033968395j),\n",
       " (0.028334907613801894+0.2944565814566097j),\n",
       " (-0.009522120600688074-0.26187807821992415j),\n",
       " (0.41655540681364556-0.12491708729887882j),\n",
       " (0.33303836062347786-0.0218078419312495j),\n",
       " (-0.08874685106205384+0.2523163373789255j),\n",
       " (-0.0963825888534371+0.08228279203843682j),\n",
       " (-0.1918631974810903+0.1906095774547759j),\n",
       " (-0.21455045893694133+0.12258035462376538j),\n",
       " (0.38858288062455526-0.13675914937454392j),\n",
       " (0.018897307950062624+0.24902153493398155j),\n",
       " (-0.4197623425352529+0.23457772732068316j),\n",
       " (0.8074183659599006+0.881295249007779j),\n",
       " (-0.05934571671153445+0.1784621537747503j),\n",
       " (0.18989829906608363+0.5104307145401051j),\n",
       " (-0.15666136643090142+0.02265308720207781j),\n",
       " (-0.4118907254146674-0.07599518876946872j),\n",
       " (0.07149784235160703-0.4259782094740923j),\n",
       " (0.19735501347956852-0.10422522995586644j),\n",
       " (0.22742867103566922-0.25067038306681844j),\n",
       " (0.46401413556706067+0.21874738570606117j),\n",
       " (-0.2935702958510079-0.5747689834121616j),\n",
       " (0.2563641492789367+0.34874628989560946j),\n",
       " (-0.017343360953535465-0.4339655907408907j),\n",
       " (0.3641032558313907-0.38644831882322483j),\n",
       " (-0.09462248647896924-0.45648104475331686j),\n",
       " (-0.05465166739599909-0.03274304513122102j),\n",
       " (0.2623043440417675+0.07308847012634762j),\n",
       " (0.08123374631726155+0.2068706849680978j),\n",
       " (-0.4404587467295743-0.21962557925374962j),\n",
       " (0.3521013574046814-0.1347480645959214j),\n",
       " (0.3141287778091475-0.3784919605931373j),\n",
       " (0.1454082244969676+0.32550906193021056j),\n",
       " (0.11237749103489009+0.19467211977446264j),\n",
       " (-0.3198469979534905+0.22953254017646277j),\n",
       " (-0.17829709840207833+0.1550404720539119j),\n",
       " (0.16251364747390873+0.46223213276423025j),\n",
       " (0.6768096368421387-0.16357117147064304j),\n",
       " (-0.03764443814764434-0.02595238025732973j),\n",
       " (0.6610041551913198+0.1427349725181057j),\n",
       " (-0.06096607959627254-0.3579180942946822j),\n",
       " (-0.05104211835072268-0.008120640671764313j),\n",
       " (0.13646776937511312-0.4519967237196722j),\n",
       " (0.09038550794104577+0.05826533703510628j),\n",
       " (0.43316662707100495+0.2836526085756936j),\n",
       " (0.2838715564686909+0.4441406115615648j),\n",
       " (-0.29897396030590456+0.44504317450351166j),\n",
       " (-0.3666237818023568+0.15110632191165377j),\n",
       " (0.10955701239097797+0.27764222318880044j),\n",
       " (-0.23009791021714715+0.33990414453862566j),\n",
       " (0.1680607603340938+0.4142319758028661j),\n",
       " (-0.7694226597333887-0.3693735303501647j),\n",
       " (0.028473549424440896+0.3324950507726392j),\n",
       " (0.12330068867860786-0.24999920511205692j),\n",
       " (-0.27727022351295055-0.12706620645146105j),\n",
       " (-0.3409745378581623+0.42620861518135017j),\n",
       " (-0.023258859250581933-0.3351360211681232j),\n",
       " (-0.18677643246638165+0.23891676555817237j),\n",
       " (-0.11440053005611071+0.04470602488069319j),\n",
       " (0.36160209618839767+0.2579954786024721j),\n",
       " (0.6795916969044565+0.5803687883776179j),\n",
       " (-0.14794726690363486+0.2821022349442839j),\n",
       " (-0.10033487477682773+0.7009201164497403j),\n",
       " (0.07171372979518376-0.06328501847154802j),\n",
       " (0.07576989165857706+0.41738744957539586j),\n",
       " (-0.004207487649774374+0.2881933268214078j),\n",
       " (-0.03643487929184586-0.24556688356278147j),\n",
       " (0.41692591799972945-0.14182715336173896j),\n",
       " (0.13420655911935156-0.11749244337498102j),\n",
       " (0.2184483692120093+0.08644173277061344j)]"
      ]
     },
     "execution_count": 26,
     "metadata": {},
     "output_type": "execute_result"
    }
   ],
   "source": [
    "reverse_normalized_complex"
   ]
  },
  {
   "cell_type": "code",
   "execution_count": 27,
   "metadata": {},
   "outputs": [
    {
     "data": {
      "text/plain": [
       "(0.688552258+0.32382033j)"
      ]
     },
     "execution_count": 27,
     "metadata": {},
     "output_type": "execute_result"
    }
   ],
   "source": [
    "6.88552258e-01+0.32382033j"
   ]
  },
  {
   "cell_type": "code",
   "execution_count": 28,
   "metadata": {},
   "outputs": [
    {
     "name": "stdout",
     "output_type": "stream",
     "text": [
      "Magnitudes: [3.605551275463989, 2.23606797749979, 6.4031242374328485]\n"
     ]
    }
   ],
   "source": [
    "import numpy as np\n",
    "\n",
    "# Replace this list with your complex numbers\n",
    "complex_numbers = [2 + 3j, 1 - 2j, -4 + 5j]\n",
    "\n",
    "# Calculate the magnitude of each complex number\n",
    "magnitudes = [abs(c) for c in complex_numbers]\n",
    "\n",
    "# Now, magnitudes contains the magnitudes of the complex numbers.\n",
    "print(\"Magnitudes:\", magnitudes)"
   ]
  },
  {
   "cell_type": "code",
   "execution_count": 29,
   "metadata": {},
   "outputs": [
    {
     "data": {
      "image/png": "[encoded data removed]",
      "text/plain": [
       "<Figure size 640x480 with 1 Axes>"
      ]
     },
     "metadata": {},
     "output_type": "display_data"
    }
   ],
   "source": [
    "import numpy as np\n",
    "import matplotlib.pyplot as plt\n",
    "from matplotlib.colors import hsv_to_rgb\n",
    "\n",
    "complex_numbers = [2 + 3j, 1 - 2j, -4 + 5j]\n",
    "\n",
    "# Calculate magnitudes and phases\n",
    "magnitudes = [np.abs(c) for c in complex_numbers]\n",
    "phases = [np.angle(c) for c in complex_numbers]\n",
    "\n",
    "# Normalize magnitudes\n",
    "normalized_magnitudes = [m / max(magnitudes) for m in magnitudes]\n",
    "\n",
    "# Map magnitudes to Value (V) and phases to Hue (H)\n",
    "hsv_colors = [(phase / (2 * np.pi), 1, mag) for phase, mag in zip(phases, normalized_magnitudes)]\n",
    "\n",
    "# Convert HSV colors to RGB\n",
    "rgb_colors = [hsv_to_rgb(color) for color in hsv_colors]\n",
    "\n",
    "plt.imshow([rgb_colors])\n",
    "plt.axis('off')\n",
    "plt.show()"
   ]
  },
  {
   "cell_type": "code",
   "execution_count": 30,
   "metadata": {},
   "outputs": [
    {
     "name": "stdout",
     "output_type": "stream",
     "text": [
      "[(-0.7308363661140809-0.3253893144606399j), (0.8108719811121772-0.3904953652058025j), (0.07316992428735757+0.6961653267577913j)]\n"
     ]
    }
   ],
   "source": [
    "import numpy as np\n",
    "import matplotlib.pyplot as plt\n",
    "from matplotlib.colors import rgb_to_hsv\n",
    "\n",
    "# Sample RGB values (representing complex numbers)\n",
    "rgb_colors = [(0.3, 0.6, 0.8), (0.9, 0.2, 0.5), (0.5, 0.7, 0.2)]\n",
    "\n",
    "# Convert RGB to HSV\n",
    "hsv_colors = [rgb_to_hsv(color) for color in rgb_colors]\n",
    "\n",
    "# Reverse mapping: Extract H (Hue) and V (Value, brightness)\n",
    "phases = [2 * np.pi * color[0] for color in hsv_colors]\n",
    "magnitudes = [color[2] for color in hsv_colors]\n",
    "\n",
    "# Reconstruct complex numbers\n",
    "complex_numbers = [magnitude * np.exp(1j * phase) for magnitude, phase in zip(magnitudes, phases)]\n",
    "\n",
    "# Print the resulting complex numbers\n",
    "print(complex_numbers)\n"
   ]
  },
  {
   "cell_type": "code",
   "execution_count": null,
   "metadata": {},
   "outputs": [],
   "source": []
  }
 ],
 "metadata": {
  "kernelspec": {
   "display_name": "occ-prj",
   "language": "python",
   "name": "python3"
  },
  "language_info": {
   "codemirror_mode": {
    "name": "ipython",
    "version": 3
   },
   "file_extension": ".py",
   "mimetype": "text/x-python",
   "name": "python",
   "nbconvert_exporter": "python",
   "pygments_lexer": "ipython3",
   "version": "3.11.4"
  },
  "orig_nbformat": 4
 },
 "nbformat": 4,
 "nbformat_minor": 2
}
